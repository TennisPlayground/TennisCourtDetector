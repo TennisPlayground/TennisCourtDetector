{
 "cells": [
  {
   "cell_type": "code",
   "execution_count": 1,
   "id": "6a1b788c-318e-4e80-802d-05099a330c4c",
   "metadata": {},
   "outputs": [],
   "source": [
    "import os\n",
    "import cv2\n",
    "import numpy as np\n",
    "import torch\n",
    "from tracknet import BallTrackerNet\n",
    "import torch.nn.functional as F\n",
    "from tqdm import tqdm\n",
    "from postprocess import postprocess, refine_kps\n",
    "from homography import get_trans_matrix, refer_kps\n",
    "import argparse\n"
   ]
  },
  {
   "cell_type": "code",
   "execution_count": 24,
   "id": "0c3d501d-a29e-4976-b05f-c167d8096c29",
   "metadata": {},
   "outputs": [
    {
     "name": "stderr",
     "output_type": "stream",
     "text": [
      "C:\\Users\\limox\\AppData\\Local\\Temp\\ipykernel_13468\\1561728200.py:11: FutureWarning: You are using `torch.load` with `weights_only=False` (the current default value), which uses the default pickle module implicitly. It is possible to construct malicious pickle data which will execute arbitrary code during unpickling (See https://github.com/pytorch/pytorch/blob/main/SECURITY.md#untrusted-models for more details). In a future release, the default value for `weights_only` will be flipped to `True`. This limits the functions that could be executed during unpickling. Arbitrary objects will no longer be allowed to be loaded via this mode unless they are explicitly allowlisted by the user via `torch.serialization.add_safe_globals`. We recommend you start setting `weights_only=True` for any use case where you don't have full control of the loaded file. Please open an issue on GitHub for any issues related to this experimental feature.\n",
      "  model.load_state_dict(torch.load(model_path, map_location=device))\n"
     ]
    },
    {
     "data": {
      "text/plain": [
       "True"
      ]
     },
     "execution_count": 24,
     "metadata": {},
     "output_type": "execute_result"
    }
   ],
   "source": [
    "input_path = 'tennis_court.png'\n",
    "#input_path = 'swingvision_2.png'\n",
    "use_refine_kps = False\n",
    "use_homography = False\n",
    "model_path = 'model_tennis_court_det.pt'\n",
    "output_path = 'tennis_court_out.jpg'\n",
    "\n",
    "model = BallTrackerNet(out_channels=15)\n",
    "device = 'cuda' if torch.cuda.is_available() else 'cpu'\n",
    "model = model.to(device)\n",
    "model.load_state_dict(torch.load(model_path, map_location=device))\n",
    "model.eval()\n",
    "\n",
    "OUTPUT_WIDTH = 640\n",
    "OUTPUT_HEIGHT = 360\n",
    "\n",
    "image = cv2.imread(input_path)\n",
    "img = cv2.resize(image, (OUTPUT_WIDTH, OUTPUT_HEIGHT))\n",
    "inp = (img.astype(np.float32) / 255.)\n",
    "inp = torch.tensor(np.rollaxis(inp, 2, 0))\n",
    "inp = inp.unsqueeze(0)\n",
    "\n",
    "out = model(inp.float().to(device))[0]\n",
    "pred = F.sigmoid(out).detach().cpu().numpy()\n",
    "points = []\n",
    "for kps_num in range(14):\n",
    "    heatmap = (pred[kps_num]*255).astype(np.uint8)\n",
    "    x_pred, y_pred = postprocess(heatmap, scale = 1,low_thresh=170, max_radius=25)\n",
    "    if use_refine_kps and kps_num not in [8, 12, 9] and x_pred and y_pred:\n",
    "        x_pred, y_pred = refine_kps(image, int(y_pred), int(x_pred))\n",
    "    points.append((x_pred, y_pred))\n",
    "\n",
    "if use_homography:\n",
    "    matrix_trans = get_trans_matrix(points)\n",
    "    if matrix_trans is not None:\n",
    "        points = cv2.perspectiveTransform(refer_kps, matrix_trans)\n",
    "        points = [np.squeeze(x) for x in points]\n",
    "\n",
    "for j in range(len(points)):\n",
    "    if points[j][0] is not None:\n",
    "        image = cv2.circle(img, (int(points[j][0]), int(points[j][1])),\n",
    "                           radius=0, color=(0, 0, 255), thickness=10)\n",
    "\n",
    "cv2.imwrite(output_path, image)"
   ]
  },
  {
   "cell_type": "code",
   "execution_count": null,
   "id": "e4b4fb02-fa57-4a40-9fca-67dcf007aa12",
   "metadata": {},
   "outputs": [],
   "source": []
  }
 ],
 "metadata": {
  "kernelspec": {
   "display_name": "Python 3 (ipykernel)",
   "language": "python",
   "name": "python3"
  },
  "language_info": {
   "codemirror_mode": {
    "name": "ipython",
    "version": 3
   },
   "file_extension": ".py",
   "mimetype": "text/x-python",
   "name": "python",
   "nbconvert_exporter": "python",
   "pygments_lexer": "ipython3",
   "version": "3.12.2"
  }
 },
 "nbformat": 4,
 "nbformat_minor": 5
}
